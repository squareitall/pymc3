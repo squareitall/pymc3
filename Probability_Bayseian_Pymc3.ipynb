{
  "nbformat": 4,
  "nbformat_minor": 0,
  "metadata": {
    "colab": {
      "name": "Probability_Bayseian_Pymc3.ipynb",
      "provenance": [],
      "collapsed_sections": []
    },
    "kernelspec": {
      "name": "python3",
      "display_name": "Python 3"
    },
    "language_info": {
      "name": "python"
    }
  },
  "cells": [
    {
      "cell_type": "code",
      "metadata": {
        "id": "D0nlPCS4VBym"
      },
      "source": [
        "import numpy as np\n",
        "import numpy.random as npr\n",
        "import pandas as pd\n",
        "import seaborn as sns\n",
        "import matplotlib.pyplot as plt\n",
        "import pymc3 as pm\n",
        "from ipywidgets import interact\n",
        "import arviz as az\n"
      ],
      "execution_count": 1,
      "outputs": []
    },
    {
      "cell_type": "code",
      "metadata": {
        "colab": {
          "base_uri": "https://localhost:8080/"
        },
        "id": "d60_MFBvVH49",
        "outputId": "a4a169eb-6093-4038-8e01-982f12433bb3"
      },
      "source": [
        "npr.seed(1)\n",
        "\n",
        "npr.rand(1000)"
      ],
      "execution_count": 3,
      "outputs": [
        {
          "output_type": "execute_result",
          "data": {
            "text/plain": [
              "array([[4.17022005e-01, 7.20324493e-01, 1.14374817e-04, 3.02332573e-01,\n",
              "        1.46755891e-01, 9.23385948e-02, 1.86260211e-01, 3.45560727e-01,\n",
              "        3.96767474e-01, 5.38816734e-01]])"
            ]
          },
          "metadata": {},
          "execution_count": 3
        }
      ]
    },
    {
      "cell_type": "code",
      "metadata": {
        "colab": {
          "base_uri": "https://localhost:8080/"
        },
        "id": "f-wIm-IMVRxk",
        "outputId": "433d351e-b803-472f-effc-55c8edf02ba6"
      },
      "source": [
        "npr.randint(low=2,size=10)"
      ],
      "execution_count": 12,
      "outputs": [
        {
          "output_type": "execute_result",
          "data": {
            "text/plain": [
              "array([1, 0, 0, 1, 1, 1, 0, 1, 0, 0])"
            ]
          },
          "metadata": {},
          "execution_count": 12
        }
      ]
    },
    {
      "cell_type": "code",
      "metadata": {
        "colab": {
          "base_uri": "https://localhost:8080/",
          "height": 332
        },
        "id": "mkwEDvAUdUFR",
        "outputId": "7dea9290-475e-4e75-8470-768a73f59bdd"
      },
      "source": [
        "import matplotlib.pyplot as plt\n",
        "plt.hist([  npr.binomial(10,0.3) for _ in range(10000)],bins=10)"
      ],
      "execution_count": 18,
      "outputs": [
        {
          "output_type": "execute_result",
          "data": {
            "text/plain": [
              "(array([2.810e+02, 1.201e+03, 2.299e+03, 2.735e+03, 1.988e+03, 1.036e+03,\n",
              "        3.550e+02, 8.800e+01, 1.600e+01, 1.000e+00]),\n",
              " array([0. , 0.9, 1.8, 2.7, 3.6, 4.5, 5.4, 6.3, 7.2, 8.1, 9. ]),\n",
              " <a list of 10 Patch objects>)"
            ]
          },
          "metadata": {},
          "execution_count": 18
        },
        {
          "output_type": "display_data",
          "data": {
            "image/png": "[encoded data removed]",
            "text/plain": [
              "<Figure size 432x288 with 1 Axes>"
            ]
          },
          "metadata": {
            "needs_background": "light"
          }
        }
      ]
    },
    {
      "cell_type": "code",
      "metadata": {
        "colab": {
          "base_uri": "https://localhost:8080/"
        },
        "id": "cZOHmfo-lDSR",
        "outputId": "30965ece-e1a7-4427-adb4-b0ae7b3f1744"
      },
      "source": [
        "aa=[  npr.binomial(10,0.3) for _ in range(1000)]\n",
        "\n",
        "def ecdf(x):\n",
        "  ''' Cummulative prob density graph'''\n",
        "\n",
        "  n=len(x)\n",
        "  x=sorted(x)\n",
        "\n",
        "  y=np.arange(1,n+1)/n#Probability till this edlelemnt can be computed using linspace that keeps incrementing at steps till last element\n",
        "\n",
        "  return x,y\n",
        "x=aa\n",
        "n=len(x)\n",
        "x=sorted(x)\n",
        "\n",
        "y=np.arange(1,n+1)/n\n",
        "y=np.round(y,1)\n",
        "all(y==np.round(np.linspace(0+(1/n),1,n),1))\n",
        "# y\n",
        "# np.linspace(0+(1/n),1,n)\n",
        "# y==np.linspace(0+(1/n),1,n)"
      ],
      "execution_count": 44,
      "outputs": [
        {
          "output_type": "execute_result",
          "data": {
            "text/plain": [
              "True"
            ]
          },
          "metadata": {},
          "execution_count": 44
        }
      ]
    },
    {
      "cell_type": "code",
      "metadata": {
        "colab": {
          "base_uri": "https://localhost:8080/",
          "height": 282
        },
        "id": "rGVNeVR5nIuG",
        "outputId": "b89206f3-d757-4623-bd9c-cc48f05bb83f"
      },
      "source": [
        "xx,yy=ecdf(aa)\n",
        "\n",
        "plt.plot(xx,yy,'.')#In biased coin with u at 0.3 probability of attaining greater than equl to 4 in 10 trails is 1-0.6=0.4"
      ],
      "execution_count": 47,
      "outputs": [
        {
          "output_type": "execute_result",
          "data": {
            "text/plain": [
              "[<matplotlib.lines.Line2D at 0x7fe4e4648e90>]"
            ]
          },
          "metadata": {},
          "execution_count": 47
        },
        {
          "output_type": "display_data",
          "data": {
            "image/png": "[encoded data removed]",
            "text/plain": [
              "<Figure size 432x288 with 1 Axes>"
            ]
          },
          "metadata": {
            "needs_background": "light"
          }
        }
      ]
    },
    {
      "cell_type": "code",
      "metadata": {
        "id": "rmmy3QS3F2ns"
      },
      "source": [
        "N=150\n",
        "p_a=0.15\n",
        "\n",
        "n_success=np.sum(npr.binomial(N,p_a))"
      ],
      "execution_count": 56,
      "outputs": []
    },
    {
      "cell_type": "code",
      "metadata": {
        "id": "SR2Op_W8GDs4"
      },
      "source": [
        "with pm.Model() as model_try:\n",
        "  '''\n",
        "  We will assume binomial likelihood for the observed data and the parameter we wish to evaluate\n",
        "  The binomial is assumed to have 150 trials based distribution with unknown p\n",
        "  We will try to evaluate distribution of p in order to generate some sense about our data distribution\n",
        "\n",
        "  We know that our data comes from a \n",
        "  '''\n",
        "  #define configuration of prior, use pm module and not np as pm inherits np and defines some more parameters\n",
        "  pri=pm.Uniform(\"pri\",lower=0,upper=1)\n",
        "\n",
        "  #Define distribution and parameter for the likelihood,the prob parameter of the binomial distribution will get updated with every observed data\n",
        "  #We defined an initial start for prob/p of binomial that is uniform distribution from 0 to 1, will have same value for all probabilities at the start\n",
        "  likelihood=pm.Binomial(\n",
        "      \"likelihood\",n=N,\n",
        "      p=pri,observed=n_success\n",
        "  )\n",
        "\n",
        "\n"
      ],
      "execution_count": 57,
      "outputs": []
    },
    {
      "cell_type": "code",
      "metadata": {
        "colab": {
          "base_uri": "https://localhost:8080/",
          "height": 194
        },
        "id": "BmXvR_2KOXQM",
        "outputId": "c007b973-bd97-4b33-9c35-437810b07aec"
      },
      "source": [
        "with model_try:\n",
        "  posterior=pm.sample(1000)"
      ],
      "execution_count": 59,
      "outputs": [
        {
          "output_type": "stream",
          "name": "stderr",
          "text": [
            "/usr/local/lib/python3.7/dist-packages/ipykernel_launcher.py:2: FutureWarning: In v4.0, pm.sample will return an `arviz.InferenceData` object instead of a `MultiTrace` by default. You can pass return_inferencedata=True or return_inferencedata=False to be safe and silence this warning.\n",
            "  \n",
            "Auto-assigning NUTS sampler...\n",
            "Initializing NUTS using jitter+adapt_diag...\n",
            "Sequential sampling (2 chains in 1 job)\n",
            "NUTS: [pri]\n"
          ]
        },
        {
          "output_type": "display_data",
          "data": {
            "text/html": [
              "\n",
              "    <div>\n",
              "        <style>\n",
              "            /* Turns off some styling */\n",
              "            progress {\n",
              "                /* gets rid of default border in Firefox and Opera. */\n",
              "                border: none;\n",
              "                /* Needs to be in here for Safari polyfill so background images work as expected. */\n",
              "                background-size: auto;\n",
              "            }\n",
              "            .progress-bar-interrupted, .progress-bar-interrupted::-webkit-progress-bar {\n",
              "                background: #F44336;\n",
              "            }\n",
              "        </style>\n",
              "      <progress value='2000' class='' max='2000' style='width:300px; height:20px; vertical-align: middle;'></progress>\n",
              "      100.00% [2000/2000 00:01<00:00 Sampling chain 0, 0 divergences]\n",
              "    </div>\n",
              "    "
            ],
            "text/plain": [
              "<IPython.core.display.HTML object>"
            ]
          },
          "metadata": {}
        },
        {
          "output_type": "display_data",
          "data": {
            "text/html": [
              "\n",
              "    <div>\n",
              "        <style>\n",
              "            /* Turns off some styling */\n",
              "            progress {\n",
              "                /* gets rid of default border in Firefox and Opera. */\n",
              "                border: none;\n",
              "                /* Needs to be in here for Safari polyfill so background images work as expected. */\n",
              "                background-size: auto;\n",
              "            }\n",
              "            .progress-bar-interrupted, .progress-bar-interrupted::-webkit-progress-bar {\n",
              "                background: #F44336;\n",
              "            }\n",
              "        </style>\n",
              "      <progress value='2000' class='' max='2000' style='width:300px; height:20px; vertical-align: middle;'></progress>\n",
              "      100.00% [2000/2000 00:01<00:00 Sampling chain 1, 0 divergences]\n",
              "    </div>\n",
              "    "
            ],
            "text/plain": [
              "<IPython.core.display.HTML object>"
            ]
          },
          "metadata": {}
        },
        {
          "output_type": "stream",
          "name": "stderr",
          "text": [
            "Sampling 2 chains for 1_000 tune and 1_000 draw iterations (2_000 + 2_000 draws total) took 3 seconds.\n"
          ]
        }
      ]
    },
    {
      "cell_type": "code",
      "metadata": {
        "colab": {
          "base_uri": "https://localhost:8080/",
          "height": 358
        },
        "id": "a2tkh5CSOKFJ",
        "outputId": "6a8869cc-b6d3-4b41-ab3b-cbc2e9cbe4ff"
      },
      "source": [
        "\n",
        "# Posterior plot for binomial model\n",
        "az.plot_posterior(posterior, kind='hist');"
      ],
      "execution_count": 61,
      "outputs": [
        {
          "output_type": "stream",
          "name": "stderr",
          "text": [
            "Got error No model on context stack. trying to find log_likelihood in translation.\n",
            "/usr/local/lib/python3.7/dist-packages/arviz/data/io_pymc3_3x.py:102: FutureWarning: Using `from_pymc3` without the model will be deprecated in a future release. Not using the model will return less accurate and less useful results. Make sure you use the model argument or call from_pymc3 within a model context.\n",
            "  FutureWarning,\n"
          ]
        },
        {
          "output_type": "display_data",
          "data": {
            "image/png": "[encoded data removed]",
            "text/plain": [
              "<Figure size 432x288 with 1 Axes>"
            ]
          },
          "metadata": {
            "needs_background": "light"
          }
        }
      ]
    },
    {
      "cell_type": "markdown",
      "metadata": {
        "id": "2G_xHVOYPFhp"
      },
      "source": [
        "## Posterior after 1000 iterations suggest that the data it has been receiving has been generated from a binomial model that has p value centered around 0.12 and has 94% confidence range between 0.075 and 0.175\n",
        "\n",
        "\n",
        "https://github.com/ericmjl/bayesian-stats-modelling-tutorial/blob/master/notebooks/03-instructor-bayesian-estimation.ipynb\n",
        "\n",
        "##### Thanks  ENthought \n",
        "##### U guys Rockk \n"
      ]
    },
    {
      "cell_type": "code",
      "metadata": {
        "id": "H9LL57wlOvG1"
      },
      "source": [
        ""
      ],
      "execution_count": null,
      "outputs": []
    }
  ]
}